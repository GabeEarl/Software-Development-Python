{
 "cells": [
  {
   "cell_type": "code",
   "execution_count": 9,
   "metadata": {},
   "outputs": [
    {
     "name": "stdout",
     "output_type": "stream",
     "text": [
      "['MOZZARELLA', 'Cinderella']\n"
     ]
    }
   ],
   "source": [
    "things = ['mozzarella', 'cinderella', 'salmonella'] \n",
    "things[1] = things[1].capitalize()\n",
    "things[0] = things[0].upper()\n",
    "del things[2]\n",
    "print(things)\n"
   ]
  },
  {
   "attachments": {},
   "cell_type": "markdown",
   "metadata": {},
   "source": [
    "7.4: the list has 3 elements\n",
    "7.5: tried using just thing[1].capitalize() but didnt work and figured out that it is not modifying the original string in the \n",
    "list but creating a new one so things[1] = things[1].capitalize() must be used\n",
    "to answer the question for 7.5, yes the C is caplitalized in cinderella \n",
    "7.6: same as 7.5 but using the upper() function\n",
    "7.7: using the del function to delete a specific element of the list"
   ]
  },
  {
   "cell_type": "code",
   "execution_count": null,
   "metadata": {},
   "outputs": [],
   "source": [
    "def good():\n",
    "    return ['Harry', 'Ron', 'Hermoine']"
   ]
  },
  {
   "attachments": {},
   "cell_type": "markdown",
   "metadata": {},
   "source": [
    "9.1: pretty straight forward function that just uses to return function to return the list of harry potter characters"
   ]
  },
  {
   "cell_type": "code",
   "execution_count": 17,
   "metadata": {},
   "outputs": [
    {
     "name": "stdout",
     "output_type": "stream",
     "text": [
      "5\n",
      "2\n"
     ]
    }
   ],
   "source": [
    "def get_odds():\n",
    "    for i in range(10): # loops through the numbers 1-10\n",
    "        if i % 2 == 1: # only allows numbers with a remainder of 1 which is odd numbers\n",
    "            yield i # yield must be used for generators\n",
    "\n",
    "for i, number in enumerate(get_odds()): # enumerate function which uses the odd numbers from get_odds in the variable number as well as the index in i\n",
    "    if i == 2: # checks for the enumerated number with the index of 2 which would be the third number in the list\n",
    "        print(number) # prints the third number\n",
    "        print(i) # prints the index for the third number\n",
    "        break"
   ]
  }
 ],
 "metadata": {
  "kernelspec": {
   "display_name": "Python 3",
   "language": "python",
   "name": "python3"
  },
  "language_info": {
   "codemirror_mode": {
    "name": "ipython",
    "version": 3
   },
   "file_extension": ".py",
   "mimetype": "text/x-python",
   "name": "python",
   "nbconvert_exporter": "python",
   "pygments_lexer": "ipython3",
   "version": "3.11.1"
  },
  "orig_nbformat": 4,
  "vscode": {
   "interpreter": {
    "hash": "e30796e51ef1d0cb3e0e4afcf1176d6e7466c6e35fa7b95887e252383b23b6e7"
   }
  }
 },
 "nbformat": 4,
 "nbformat_minor": 2
}
