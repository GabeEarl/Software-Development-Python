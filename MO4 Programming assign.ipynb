{
 "cells": [
  {
   "cell_type": "code",
   "execution_count": 1,
   "metadata": {},
   "outputs": [],
   "source": [
    "# string in csv format\n",
    "text = '''title,author,year\n",
    "The Weirdstone of Brisingamen,Alan Garner,1960\n",
    "Perdido Street Station,China Miéville,2000\n",
    "Thud!,Terry Pratchett,2005\n",
    "The Spellman Files,Lisa Lutz,2007\n",
    "Small Gods,Terry Pratchett,1992'''\n",
    "\n",
    "# Open the file books2.csv in write mode as outfile\n",
    "with open('books2.csv', 'wt') as outfile:\n",
    "    # Write the contents of the text string to outfile\n",
    "    outfile.write(text)"
   ]
  },
  {
   "cell_type": "code",
   "execution_count": 2,
   "metadata": {},
   "outputs": [],
   "source": [
    "import sqlite3\n",
    "\n",
    "# Connects to the books.db database using the sqlite3.connect function\n",
    "db = sqlite3.connect('books.db')\n",
    "\n",
    "# Creates a cursor object that allows you to execute SQL commands on the database\n",
    "curs = db.cursor()\n",
    "\n",
    "# Execute an SQL command to create a table called book with title text and year\n",
    "curs.execute('''CREATE TABLE book (title text, author text, year int)''')\n",
    "\n",
    "db.commit()"
   ]
  },
  {
   "cell_type": "code",
   "execution_count": 3,
   "metadata": {},
   "outputs": [],
   "source": [
    "import csv\n",
    "import sqlite3\n",
    "\n",
    "# Define an insert statement string to insert data into a book table in a SQLite database\n",
    "ins_str = 'insert into book values(?, ?, ?)'\n",
    "\n",
    "# Open the books2.csv file in reading mode\n",
    "with open('books2.csv', 'rt') as infile:\n",
    "    # Read the contents of the file into a list of dictionaries using the csv.DictReader function\n",
    "    books = csv.DictReader(infile)\n",
    "    # Iterate over the list of dictionaries\n",
    "    for book in books:\n",
    "        # Execute the insert statement for each book using the execute() method on the cursor object,\n",
    "        # passing the values for title, author, and year obtained from the dictionary as parameters\n",
    "        curs.execute(ins_str, (book['title'], book['author'], book['year']))\n",
    "\n",
    "db.commit()"
   ]
  },
  {
   "cell_type": "code",
   "execution_count": 4,
   "metadata": {},
   "outputs": [
    {
     "name": "stdout",
     "output_type": "stream",
     "text": [
      "('Perdido Street Station',)\n",
      "('Small Gods',)\n",
      "('The Spellman Files',)\n",
      "('The Weirdstone of Brisingamen',)\n",
      "('Thud!',)\n"
     ]
    }
   ],
   "source": [
    "# Define an SQL query to select the title column from the book table \n",
    "# and order the results in ascending order by the title column.\n",
    "sql = 'select title from book order by title asc'\n",
    "\n",
    "# Execute the query using the execute() method on the database connection object\n",
    "for row in db.execute(sql):\n",
    "    # For each row in the results, print the contents of the title column\n",
    "    print(row)"
   ]
  },
  {
   "cell_type": "code",
   "execution_count": 5,
   "metadata": {},
   "outputs": [
    {
     "name": "stdout",
     "output_type": "stream",
     "text": [
      "The Weirdstone of Brisingamen, Alan Garner, 1960\n",
      "Small Gods, Terry Pratchett, 1992\n",
      "Perdido Street Station, China Miéville, 2000\n",
      "Thud!, Terry Pratchett, 2005\n",
      "The Spellman Files, Lisa Lutz, 2007\n"
     ]
    }
   ],
   "source": [
    "# Execute an SQL query to select all columns from the book table \n",
    "# and order the results in ascending order by the year column.\n",
    "for row in db.execute('select * from book order by year asc'):\n",
    "    # For each row in the results, print the contents of all columns, separated by a comma and a space\n",
    "    print(*row, sep = ', ')"
   ]
  },
  {
   "cell_type": "code",
   "execution_count": 6,
   "metadata": {},
   "outputs": [
    {
     "name": "stdout",
     "output_type": "stream",
     "text": [
      "('Perdido Street Station',)\n",
      "('Small Gods',)\n",
      "('The Spellman Files',)\n",
      "('The Weirdstone of Brisingamen',)\n",
      "('Thud!',)\n"
     ]
    }
   ],
   "source": [
    "# Import the SQLAlchemy module\n",
    "import sqlalchemy\n",
    "\n",
    "# Create a database engine to connect to the SQLite database file named \"books.db\"\n",
    "conn = sqlalchemy.create_engine('sqlite:///books.db')\n",
    "\n",
    "# Define an SQL query to select the title column from the book table \n",
    "# and order the results in ascending order by the title column.\n",
    "sql = 'select title from book order by title asc'\n",
    "\n",
    "# Execute the query using the execute() method on the database engine object\n",
    "rows = conn.execute(sql)\n",
    "\n",
    "# Iterate over the rows in the query results\n",
    "for row in rows:\n",
    "    # For each row, print the contents of the title column\n",
    "    print(row)"
   ]
  }
 ],
 "metadata": {
  "kernelspec": {
   "display_name": "Python 3",
   "language": "python",
   "name": "python3"
  },
  "language_info": {
   "codemirror_mode": {
    "name": "ipython",
    "version": 3
   },
   "file_extension": ".py",
   "mimetype": "text/x-python",
   "name": "python",
   "nbconvert_exporter": "python",
   "pygments_lexer": "ipython3",
   "version": "3.11.2"
  },
  "orig_nbformat": 4,
  "vscode": {
   "interpreter": {
    "hash": "5238573367df39f7286bb46f9ff5f08f63a01a80960060ce41e3c79b190280fa"
   }
  }
 },
 "nbformat": 4,
 "nbformat_minor": 2
}
