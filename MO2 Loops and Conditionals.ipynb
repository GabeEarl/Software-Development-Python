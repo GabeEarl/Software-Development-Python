{
 "cells": [
  {
   "cell_type": "code",
   "execution_count": 1,
   "metadata": {},
   "outputs": [
    {
     "name": "stdout",
     "output_type": "stream",
     "text": [
      "too low\n"
     ]
    }
   ],
   "source": [
    "secret = int(7) # variable for the hidden number\n",
    "guess = int(4) # variable for the guess\n",
    "if guess < secret: # if statement for too low\n",
    "    print('too low')\n",
    "elif guess > secret: # if statement for too high\n",
    "    print('too high')\n",
    "else: # if neither higher or lower then must be just right\n",
    "    print('just right')"
   ]
  },
  {
   "cell_type": "code",
   "execution_count": 2,
   "metadata": {},
   "outputs": [
    {
     "name": "stdout",
     "output_type": "stream",
     "text": [
      "It's a pea\n"
     ]
    }
   ],
   "source": [
    "small = True\n",
    "green = True\n",
    "if small: # checks if the object is small\n",
    "    if green: # checks if the object is green\n",
    "        print('It\\'s a pea')\n",
    "    else:\n",
    "        print('It\\'s a cherry')\n",
    "else:\n",
    "    if green:\n",
    "        print('It\\'s a watermelon')\n",
    "    else:\n",
    "        print('It\\'s a pumpkin')"
   ]
  },
  {
   "cell_type": "code",
   "execution_count": 3,
   "metadata": {},
   "outputs": [
    {
     "name": "stdout",
     "output_type": "stream",
     "text": [
      "3\n",
      "2\n",
      "1\n",
      "0\n"
     ]
    }
   ],
   "source": [
    "numbers = [3, 2, 1, 0] # makes a variable numbers into a list\n",
    "for num in numbers: # iterates through the list and prints each number in the list\n",
    "    print(num)"
   ]
  },
  {
   "cell_type": "code",
   "execution_count": 4,
   "metadata": {},
   "outputs": [
    {
     "name": "stdout",
     "output_type": "stream",
     "text": [
      "too low\n",
      "too low\n",
      "too low\n",
      "too low\n",
      "too low\n",
      "too low\n",
      "found it!\n"
     ]
    }
   ],
   "source": [
    "guess_me = int(7)\n",
    "number = int(1)\n",
    "while True: # while loop using true which will iterate an infinite amount of times until a break statement is used\n",
    "    if number < guess_me: # check if number is lower than guess\n",
    "        print(\"too low\")\n",
    "    elif number == guess_me: # checks if number is the same as guess and breaks the loop\n",
    "        print(\"found it!\")\n",
    "        break\n",
    "    else: # if neither of the other options are correct then displays oops error\n",
    "        print(\"oops\")\n",
    "        break\n",
    "    number += 1 # expression to add 1 to the number after each loop"
   ]
  },
  {
   "cell_type": "code",
   "execution_count": 5,
   "metadata": {},
   "outputs": [
    {
     "name": "stdout",
     "output_type": "stream",
     "text": [
      "too low\n",
      "0\n",
      "too low\n",
      "1\n",
      "too low\n",
      "2\n",
      "too low\n",
      "3\n",
      "too low\n",
      "4\n",
      "found it!\n"
     ]
    }
   ],
   "source": [
    "guess_me = int(5)\n",
    "for number in range(10): # for loop that iterates from 0 through 10\n",
    "    if number < guess_me: # if statement that checks if number is less than guess\n",
    "        print('too low')\n",
    "    elif number == guess_me: # else if statement that checks if two variables are the same\n",
    "        print('found it!')\n",
    "        break\n",
    "    else: # if number is not less than or equal to then must be greater so else statements prints oops\n",
    "        print('oops')\n",
    "        break\n"
   ]
  }
 ],
 "metadata": {
  "kernelspec": {
   "display_name": "Python 3",
   "language": "python",
   "name": "python3"
  },
  "language_info": {
   "codemirror_mode": {
    "name": "ipython",
    "version": 3
   },
   "file_extension": ".py",
   "mimetype": "text/x-python",
   "name": "python",
   "nbconvert_exporter": "python",
   "pygments_lexer": "ipython3",
   "version": "3.10.5"
  },
  "orig_nbformat": 4,
  "vscode": {
   "interpreter": {
    "hash": "958ecc49f845cae67b922f9a0ace456f2aeb07b09c0ec55961dea76115aaae27"
   }
  }
 },
 "nbformat": 4,
 "nbformat_minor": 2
}
