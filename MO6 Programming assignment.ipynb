{
 "cells": [
  {
   "cell_type": "code",
   "execution_count": 1,
   "metadata": {},
   "outputs": [],
   "source": [
    "from datetime import date\n",
    "today = date.today().strftime('%Y-%m-%d') # retrieves todays date and formats it as string\n",
    "with open('today.txt', 'w') as file: # writes the today date to the today.txt file\n",
    "    file.write(today)"
   ]
  },
  {
   "attachments": {},
   "cell_type": "markdown",
   "metadata": {},
   "source": [
    "The above code uses the datetime module with the included date class to retrieve todays date with date.today and format it into a string with the strftime command into a year month day format."
   ]
  },
  {
   "cell_type": "code",
   "execution_count": 4,
   "metadata": {},
   "outputs": [
    {
     "name": "stdout",
     "output_type": "stream",
     "text": [
      "2023-03-10\n"
     ]
    }
   ],
   "source": [
    "with open('today.txt', 'r') as file: #reads the today.txt file and assigns to a variable\n",
    "    today_string = file.read()\n",
    "print(today_string)"
   ]
  },
  {
   "attachments": {},
   "cell_type": "markdown",
   "metadata": {},
   "source": [
    "The above code reads the txt file and retrieves the previously written date."
   ]
  },
  {
   "cell_type": "code",
   "execution_count": 7,
   "metadata": {},
   "outputs": [
    {
     "name": "stdout",
     "output_type": "stream",
     "text": [
      "<class 'str'>\n",
      "<class 'datetime.date'>\n"
     ]
    }
   ],
   "source": [
    "from datetime import datetime\n",
    "with open('today.txt', 'r') as file: #reads the today.txt file and assigns to a variable\n",
    "    today_string = file.read()\n",
    "today_date = datetime.strptime(today_string, '%Y-%m-%d').date()\n",
    "print(type(today_string))\n",
    "print(type(today_date))"
   ]
  },
  {
   "attachments": {},
   "cell_type": "markdown",
   "metadata": {},
   "source": [
    "The above code uses the inverse of the strftime function to parse the information from string into datetime format while strftime is used to format from datetime into string format."
   ]
  }
 ],
 "metadata": {
  "kernelspec": {
   "display_name": "Python 3",
   "language": "python",
   "name": "python3"
  },
  "language_info": {
   "codemirror_mode": {
    "name": "ipython",
    "version": 3
   },
   "file_extension": ".py",
   "mimetype": "text/x-python",
   "name": "python",
   "nbconvert_exporter": "python",
   "pygments_lexer": "ipython3",
   "version": "3.11.2"
  },
  "orig_nbformat": 4
 },
 "nbformat": 4,
 "nbformat_minor": 2
}
